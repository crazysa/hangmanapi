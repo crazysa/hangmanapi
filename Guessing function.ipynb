{
 "cells": [
  {
   "cell_type": "code",
   "execution_count": null,
   "id": "a66ad920",
   "metadata": {},
   "outputs": [],
   "source": [
    "def guess_through_lstm(self,clean_word):\n",
    "      x_test = clean_word\n",
    "      print(x_test)\n",
    "      # print(self.char_to_int)\n",
    "      # print(self.int_to_char)\n",
    "      # guessed_chars = [char  for char in self.guessed_letters if char not in x_test]\n",
    "      guessed_chars =[]\n",
    "      x_test_encoded = [self.char_to_int[char] for char in x_test]\n",
    "      guessed_chars_encoded = [self.char_to_int[char] for char in guessed_chars]\n",
    "      print(\"length of encoded\", len(x_test_encoded), len(guessed_chars_encoded))\n",
    "      x_test_padded = [x_test_encoded + [self.char_to_int[\"$\"]] * (45 - len(x_test_encoded))]\n",
    "      guessed_chars_padded = [guessed_chars_encoded + [self.char_to_int[\"$\"]] * (5 - len(guessed_chars_encoded))]\n",
    "      final_value = np.concatenate(x_test_padded+guessed_chars_padded)\n",
    "      print(\"length of padded values\",len(x_test_padded),len(guessed_chars_padded))\n",
    "      print(\"VAlues to predict\", final_value)\n",
    "      print(\"values\", x_test, guessed_chars)\n",
    "      predicted_probs = self.model.predict(np.concatenate(x_test_padded+guessed_chars_padded))[0]\n",
    "\n",
    "\n",
    "      already_selected_values = list(x_test)\n",
    "      already_selected_values.extend(list(guessed_chars))\n",
    "\n",
    "      character_selected = ''\n",
    "      probability_of_selected_value = 0\n",
    "      for index, value in enumerate(x_test):\n",
    "        if value == '.':\n",
    "\n",
    "          # if int_to_char[np.argmax(predicted_probs[index])] not in already_selected_values:\n",
    "          #   if probability_of_selected_value < np.max(predicted_probs[index]):\n",
    "          #     character_selected = int_to_char[np.argmax(predicted_probs[index])]\n",
    "          #     probability_of_selected_value= np.max(predicted_probs[index])\n",
    "\n",
    "          # else:\n",
    "          while(True):\n",
    "            if self.int_to_char[np.argmax(predicted_probs[index])] in already_selected_values:\n",
    "              # print(\"changing\",int_to_char[np.argmax(predicted_probs[index])])\n",
    "              predicted_probs[index][np.argmax(predicted_probs[index])] = 0\n",
    "            else:\n",
    "              if probability_of_selected_value < np.max(predicted_probs[index]):\n",
    "                character_selected = self.int_to_char[np.argmax(predicted_probs[index])]\n",
    "                probability_of_selected_value= np.max(predicted_probs[index])\n",
    "              break\n",
    "\n",
    "      print(\"selected character is\",character_selected)\n",
    "      return character_selected"
   ]
  }
 ],
 "metadata": {
  "kernelspec": {
   "display_name": "Python 3 (ipykernel)",
   "language": "python",
   "name": "python3"
  },
  "language_info": {
   "codemirror_mode": {
    "name": "ipython",
    "version": 3
   },
   "file_extension": ".py",
   "mimetype": "text/x-python",
   "name": "python",
   "nbconvert_exporter": "python",
   "pygments_lexer": "ipython3",
   "version": "3.8.10"
  }
 },
 "nbformat": 4,
 "nbformat_minor": 5
}
